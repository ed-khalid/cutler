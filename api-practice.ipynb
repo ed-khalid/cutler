{
 "cells": [
  {
   "cell_type": "code",
   "execution_count": 1,
   "metadata": {
    "collapsed": true
   },
   "outputs": [],
   "source": [
    "import json\n",
    "import requests\n",
    "import pandas as pd\n",
    "import numpy as np\n",
    "import seaborn as sns\n",
    "import matplotlib.pyplot as plt\n",
    "from bokeh.plotting import figure, output_file, show\n",
    "%matplotlib inline"
   ]
  },
  {
   "cell_type": "markdown",
   "metadata": {},
   "source": [
    "## Workflow"
   ]
  },
  {
   "cell_type": "markdown",
   "metadata": {},
   "source": [
    "* Greet Cutler\n",
    "\n",
    "```\n",
    "-> Hello Cutler,\n",
    "Hello {username}, how can I help you today?\n",
    "```\n",
    "\n",
    "* Check your budget\n",
    "\n",
    "```\n",
    "-> Am I within budget this month?\n",
    "Your have spent {total_dollars} of your budgeted {budgeted_dollars}.\n",
    "Would you like to see a breadown?\n",
    "\n",
    "-> Sure.\n",
    "(Categorical table of breakdown/ or barchart)\n",
    "```\n",
    "\n",
    "* Check your rewards\n",
    "\n",
    "```\n",
    "-> What can I buy with my reward points?\n",
    "You have {reward points} to spend. Would you like a recommendation based on your transaction history?\n",
    "\n",
    "-> Okay.\n",
    "(Table displaying options in descending point order)\n",
    "```\n",
    "* Sign in as parent\n",
    "\n",
    "* Greet Cutler\n",
    "```\n",
    "-> Hello Cutler,\n",
    "Hello {username}, how can I help you today?\n",
    "```\n",
    "\n",
    "* Check your budget\n",
    "\n",
    "```\n",
    "-> Am I within budget this month?\n",
    "Your have spent {total_dollars} of your budgeted {budgeted_dollars}.\n",
    "Your family has spent {family_total_dollars} of your budgeted {family_budgeted_dollars}.\n",
    "Would you like to see a breadown by category or family member?\n",
    "\n",
    "-> How about both?\n",
    "(Categorical table of each memeber and their respecitve budgets)\n",
    "```\n",
    "\n",
    "* Notice that Jimmy is over budget for video games, make comment that he is supposed to be spending that money on his lunches\n",
    "\n",
    "```\n",
    "-> Lower Jimmy's monthly allowance by X dollars\n",
    "Jimmy's monthly allowance now {original-X} from {original}. Notify Jimmy of change?\n",
    "\n",
    "-> Yes!\n",
    "```"
   ]
  },
  {
   "cell_type": "code",
   "execution_count": null,
   "metadata": {
    "collapsed": true
   },
   "outputs": [],
   "source": []
  }
 ],
 "metadata": {
  "kernelspec": {
   "display_name": "Python 3",
   "language": "python",
   "name": "python3"
  },
  "language_info": {
   "codemirror_mode": {
    "name": "ipython",
    "version": 3
   },
   "file_extension": ".py",
   "mimetype": "text/x-python",
   "name": "python",
   "nbconvert_exporter": "python",
   "pygments_lexer": "ipython3",
   "version": "3.6.1"
  }
 },
 "nbformat": 4,
 "nbformat_minor": 2
}
